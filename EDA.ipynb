{
 "cells": [
  {
   "cell_type": "code",
   "execution_count": 1,
   "source": [
    "# Import the libraries\n",
    "import logging\n",
    "import pandas as pd\n",
    "import ai\n",
    "import config\n",
    "import database as db"
   ],
   "metadata": {
    "collapsed": false,
    "ExecuteTime": {
     "end_time": "2024-12-13T16:57:15.332223Z",
     "start_time": "2024-12-13T16:57:15.000216Z"
    }
   },
   "id": "initial_id",
   "outputs": []
  },
  {
   "cell_type": "code",
   "execution_count": 2,
   "outputs": [
    {
     "data": {
      "text/plain": "    Category ID Category Subcategory ID           Subcategory\n418     73C9953  Аптечка        73C9955   Презервативы и гели\n419     73C9953  Аптечка        73C9956              Пластыри\n420     73C9953  Аптечка        73C9957                 Кремы\n421     73C9953  Аптечка        73C9959  Гигиенические помады\n422     73C9953  Аптечка       73C12099        Витамины, БАДы",
      "text/html": "<div>\n<style scoped>\n    .dataframe tbody tr th:only-of-type {\n        vertical-align: middle;\n    }\n\n    .dataframe tbody tr th {\n        vertical-align: top;\n    }\n\n    .dataframe thead th {\n        text-align: right;\n    }\n</style>\n<table border=\"1\" class=\"dataframe\">\n  <thead>\n    <tr style=\"text-align: right;\">\n      <th></th>\n      <th>Category ID</th>\n      <th>Category</th>\n      <th>Subcategory ID</th>\n      <th>Subcategory</th>\n    </tr>\n  </thead>\n  <tbody>\n    <tr>\n      <th>418</th>\n      <td>73C9953</td>\n      <td>Аптечка</td>\n      <td>73C9955</td>\n      <td>Презервативы и гели</td>\n    </tr>\n    <tr>\n      <th>419</th>\n      <td>73C9953</td>\n      <td>Аптечка</td>\n      <td>73C9956</td>\n      <td>Пластыри</td>\n    </tr>\n    <tr>\n      <th>420</th>\n      <td>73C9953</td>\n      <td>Аптечка</td>\n      <td>73C9957</td>\n      <td>Кремы</td>\n    </tr>\n    <tr>\n      <th>421</th>\n      <td>73C9953</td>\n      <td>Аптечка</td>\n      <td>73C9959</td>\n      <td>Гигиенические помады</td>\n    </tr>\n    <tr>\n      <th>422</th>\n      <td>73C9953</td>\n      <td>Аптечка</td>\n      <td>73C12099</td>\n      <td>Витамины, БАДы</td>\n    </tr>\n  </tbody>\n</table>\n</div>"
     },
     "execution_count": 2,
     "metadata": {},
     "output_type": "execute_result"
    }
   ],
   "source": [
    "# Вызывать, если row_products пустой \n",
    "# rep.get_categories(config.row_categories)\n",
    "\n",
    "row_categories = pd.read_csv(config.row_categories)\n",
    "row_categories.tail()"
   ],
   "metadata": {
    "collapsed": false,
    "ExecuteTime": {
     "end_time": "2024-12-13T15:02:17.087194Z",
     "start_time": "2024-12-13T15:02:17.067550Z"
    }
   },
   "id": "a5a436980416ecbe"
  },
  {
   "cell_type": "markdown",
   "source": [
    "### Удаляем категории, которые не являются пищевой продукцией"
   ],
   "metadata": {
    "collapsed": false
   },
   "id": "5b3cfae45393ba0e"
  },
  {
   "cell_type": "code",
   "execution_count": 3,
   "outputs": [],
   "source": [
    "logging.basicConfig(level=logging.INFO, format='%(asctime)s - %(levelname)s - %(message)s')\n",
    "\n",
    "def filter_categories(input_file=config.row_categories, output_file=config.categories):\n",
    "    drop_categories = [\n",
    "        \"Новый Год\",\n",
    "        \"Не забудьте купить\",\n",
    "        \"Детские товары\",\n",
    "        \"Детское питание\",\n",
    "        \"Детский клуб\",\n",
    "        \"Бумага и салфетки\",\n",
    "        \"Красота и гигиена\",\n",
    "        \"Л'Этуаль в Пятёрочке\",\n",
    "        \"Для животных\",\n",
    "        \"Пушистый клуб\",\n",
    "        \"Стирка и уборка\",\n",
    "        \"Одежда\",\n",
    "        \"Для дома и дачи\",\n",
    "        \"Аптечка\"\n",
    "    ]\n",
    "\n",
    "    try:\n",
    "        categories = pd.read_csv(input_file)\n",
    "\n",
    "        filtered_categories = categories[~categories['Category'].isin(drop_categories)]\n",
    "\n",
    "        filtered_categories.to_csv(output_file, index=False)\n",
    "\n",
    "    except Exception as e:\n",
    "        logging.error(f\"Failed to filter categories: {e}\")\n",
    "\n",
    "filter_categories()"
   ],
   "metadata": {
    "collapsed": false,
    "ExecuteTime": {
     "end_time": "2024-12-13T15:02:18.389108Z",
     "start_time": "2024-12-13T15:02:18.377639Z"
    }
   },
   "id": "f6dd871f769d6479"
  },
  {
   "cell_type": "code",
   "execution_count": 4,
   "outputs": [
    {
     "data": {
      "text/plain": "  Category ID     Category Subcategory ID               Subcategory\n0     73C2338  Готовая еда       73C10301           Горячие напитки\n1     73C2338  Готовая еда        73C9714  Блинчики, сырники и каши\n2     73C2338  Готовая еда        73C9715        Сэндвичи и бургеры\n3     73C2338  Готовая еда        73C6771              Суши и роллы\n4     73C2338  Готовая еда        73C9718            Основные блюда",
      "text/html": "<div>\n<style scoped>\n    .dataframe tbody tr th:only-of-type {\n        vertical-align: middle;\n    }\n\n    .dataframe tbody tr th {\n        vertical-align: top;\n    }\n\n    .dataframe thead th {\n        text-align: right;\n    }\n</style>\n<table border=\"1\" class=\"dataframe\">\n  <thead>\n    <tr style=\"text-align: right;\">\n      <th></th>\n      <th>Category ID</th>\n      <th>Category</th>\n      <th>Subcategory ID</th>\n      <th>Subcategory</th>\n    </tr>\n  </thead>\n  <tbody>\n    <tr>\n      <th>0</th>\n      <td>73C2338</td>\n      <td>Готовая еда</td>\n      <td>73C10301</td>\n      <td>Горячие напитки</td>\n    </tr>\n    <tr>\n      <th>1</th>\n      <td>73C2338</td>\n      <td>Готовая еда</td>\n      <td>73C9714</td>\n      <td>Блинчики, сырники и каши</td>\n    </tr>\n    <tr>\n      <th>2</th>\n      <td>73C2338</td>\n      <td>Готовая еда</td>\n      <td>73C9715</td>\n      <td>Сэндвичи и бургеры</td>\n    </tr>\n    <tr>\n      <th>3</th>\n      <td>73C2338</td>\n      <td>Готовая еда</td>\n      <td>73C6771</td>\n      <td>Суши и роллы</td>\n    </tr>\n    <tr>\n      <th>4</th>\n      <td>73C2338</td>\n      <td>Готовая еда</td>\n      <td>73C9718</td>\n      <td>Основные блюда</td>\n    </tr>\n  </tbody>\n</table>\n</div>"
     },
     "execution_count": 4,
     "metadata": {},
     "output_type": "execute_result"
    }
   ],
   "source": [
    "categories = pd.read_csv(config.categories)\n",
    "categories.head()"
   ],
   "metadata": {
    "collapsed": false,
    "ExecuteTime": {
     "end_time": "2024-12-13T15:02:19.127191Z",
     "start_time": "2024-12-13T15:02:19.117104Z"
    }
   },
   "id": "ca150bd82cd1cf03"
  },
  {
   "cell_type": "code",
   "execution_count": 5,
   "outputs": [
    {
     "data": {
      "text/plain": "        plu                          name  \\\n0  78034281              Кофе Латте 330мл   \n1  78034282   Кофе Большой Капучино 270мл   \n2  78034285   Кофе Американо Гранде 320мл   \n3  78034280          Кофе Флэт Уайт 200мл   \n4  78034284  Кофе Большой Американо 230мл   \n\n                                         image_links uom  step  \\\n0  {'small': ['https://photos.okolo.app/product/1...  шт   1.0   \n1  {'small': ['https://photos.okolo.app/product/1...  шт   1.0   \n2  {'small': ['https://photos.okolo.app/product/1...  шт   1.0   \n3  {'small': ['https://photos.okolo.app/product/1...  шт   1.0   \n4  {'small': ['https://photos.okolo.app/product/1...  шт   1.0   \n\n                                          rating  \\\n0  {'rating_average': 4.73, 'rates_count': 2087}   \n1  {'rating_average': 4.69, 'rates_count': 1191}   \n2   {'rating_average': 4.69, 'rates_count': 518}   \n3   {'rating_average': 4.56, 'rates_count': 339}   \n4    {'rating_average': 4.8, 'rates_count': 198}   \n\n                                               promo  \\\n0  {'econombo': {'include_categories': ['251C2161...   \n1  {'econombo': {'include_categories': ['251C2161...   \n2  {'econombo': {'include_categories': ['251C2161...   \n3  {'econombo': {'include_categories': ['251C2161...   \n4  {'econombo': {'include_categories': ['251C2161...   \n\n                                              prices  \\\n0  [{'value': '99.99', 'placement_type': 'regular...   \n1  [{'value': '99.99', 'placement_type': 'regular...   \n2  [{'value': '79.99', 'placement_type': 'regular...   \n3  [{'value': '99.99', 'placement_type': 'regular...   \n4  [{'value': '49.99', 'placement_type': 'regular...   \n\n                                              labels property_clarification  \\\n0  [{'label': 'Комбо', 'bg_color': '#FBAC29', 'te...                 330 мл   \n1  [{'label': 'Комбо', 'bg_color': '#FBAC29', 'te...                 270 мл   \n2  [{'label': 'Комбо', 'bg_color': '#FBAC29', 'te...                 320 мл   \n3  [{'label': 'Комбо', 'bg_color': '#FBAC29', 'te...                 200 мл   \n4  [{'label': 'Комбо', 'bg_color': '#FBAC29', 'te...                 230 мл   \n\n   has_age_restriction  stock_limit description description_md  \\\n0                False        100.0         NaN            NaN   \n1                False        100.0         NaN            NaN   \n2                False        100.0         NaN            NaN   \n3                False        100.0         NaN            NaN   \n4                False        100.0         NaN            NaN   \n\n                                           nutrients  \\\n0  [{'value': '6.84', 'text': 'белки'}, {'value':...   \n1  [{'value': '5.25', 'text': 'белки'}, {'value':...   \n2  [{'value': '0.47', 'text': 'белки'}, {'value':...   \n3  [{'value': '4.81', 'text': 'белки'}, {'value':...   \n4  [{'value': '0.41', 'text': 'белки'}, {'value':...   \n\n                                          attributes  \\\n0  [{'name': 'Вес', 'value': '0.337', 'uom': 'кг'...   \n1  [{'name': 'Вес', 'value': '0.277', 'uom': 'кг'...   \n2  [{'name': 'Вес', 'value': '0.32', 'uom': 'кг'}...   \n3  [{'name': 'Вес', 'value': '0.205', 'uom': 'кг'...   \n4  [{'name': 'Вес', 'value': '0.23', 'uom': 'кг'}...   \n\n                                         ingredients  is_available  \\\n0  молоко с м.д.ж. 3,2%, вода питьевая, кофе нату...          True   \n1  молоко с м.д.ж. 3,2%, вода питьевая, кофе нату...          True   \n2   вода питьевая, кофе натуральный жареный в зернах          True   \n3  молоко с м.д.ж. 3,2%, вода питьевая, кофе нату...          True   \n4   вода питьевая, кофе натуральный жареный в зернах          True   \n\n   is_various_manufacturers  \n0                      True  \n1                      True  \n2                      True  \n3                      True  \n4                      True  ",
      "text/html": "<div>\n<style scoped>\n    .dataframe tbody tr th:only-of-type {\n        vertical-align: middle;\n    }\n\n    .dataframe tbody tr th {\n        vertical-align: top;\n    }\n\n    .dataframe thead th {\n        text-align: right;\n    }\n</style>\n<table border=\"1\" class=\"dataframe\">\n  <thead>\n    <tr style=\"text-align: right;\">\n      <th></th>\n      <th>plu</th>\n      <th>name</th>\n      <th>image_links</th>\n      <th>uom</th>\n      <th>step</th>\n      <th>rating</th>\n      <th>promo</th>\n      <th>prices</th>\n      <th>labels</th>\n      <th>property_clarification</th>\n      <th>has_age_restriction</th>\n      <th>stock_limit</th>\n      <th>description</th>\n      <th>description_md</th>\n      <th>nutrients</th>\n      <th>attributes</th>\n      <th>ingredients</th>\n      <th>is_available</th>\n      <th>is_various_manufacturers</th>\n    </tr>\n  </thead>\n  <tbody>\n    <tr>\n      <th>0</th>\n      <td>78034281</td>\n      <td>Кофе Латте 330мл</td>\n      <td>{'small': ['https://photos.okolo.app/product/1...</td>\n      <td>шт</td>\n      <td>1.0</td>\n      <td>{'rating_average': 4.73, 'rates_count': 2087}</td>\n      <td>{'econombo': {'include_categories': ['251C2161...</td>\n      <td>[{'value': '99.99', 'placement_type': 'regular...</td>\n      <td>[{'label': 'Комбо', 'bg_color': '#FBAC29', 'te...</td>\n      <td>330 мл</td>\n      <td>False</td>\n      <td>100.0</td>\n      <td>NaN</td>\n      <td>NaN</td>\n      <td>[{'value': '6.84', 'text': 'белки'}, {'value':...</td>\n      <td>[{'name': 'Вес', 'value': '0.337', 'uom': 'кг'...</td>\n      <td>молоко с м.д.ж. 3,2%, вода питьевая, кофе нату...</td>\n      <td>True</td>\n      <td>True</td>\n    </tr>\n    <tr>\n      <th>1</th>\n      <td>78034282</td>\n      <td>Кофе Большой Капучино 270мл</td>\n      <td>{'small': ['https://photos.okolo.app/product/1...</td>\n      <td>шт</td>\n      <td>1.0</td>\n      <td>{'rating_average': 4.69, 'rates_count': 1191}</td>\n      <td>{'econombo': {'include_categories': ['251C2161...</td>\n      <td>[{'value': '99.99', 'placement_type': 'regular...</td>\n      <td>[{'label': 'Комбо', 'bg_color': '#FBAC29', 'te...</td>\n      <td>270 мл</td>\n      <td>False</td>\n      <td>100.0</td>\n      <td>NaN</td>\n      <td>NaN</td>\n      <td>[{'value': '5.25', 'text': 'белки'}, {'value':...</td>\n      <td>[{'name': 'Вес', 'value': '0.277', 'uom': 'кг'...</td>\n      <td>молоко с м.д.ж. 3,2%, вода питьевая, кофе нату...</td>\n      <td>True</td>\n      <td>True</td>\n    </tr>\n    <tr>\n      <th>2</th>\n      <td>78034285</td>\n      <td>Кофе Американо Гранде 320мл</td>\n      <td>{'small': ['https://photos.okolo.app/product/1...</td>\n      <td>шт</td>\n      <td>1.0</td>\n      <td>{'rating_average': 4.69, 'rates_count': 518}</td>\n      <td>{'econombo': {'include_categories': ['251C2161...</td>\n      <td>[{'value': '79.99', 'placement_type': 'regular...</td>\n      <td>[{'label': 'Комбо', 'bg_color': '#FBAC29', 'te...</td>\n      <td>320 мл</td>\n      <td>False</td>\n      <td>100.0</td>\n      <td>NaN</td>\n      <td>NaN</td>\n      <td>[{'value': '0.47', 'text': 'белки'}, {'value':...</td>\n      <td>[{'name': 'Вес', 'value': '0.32', 'uom': 'кг'}...</td>\n      <td>вода питьевая, кофе натуральный жареный в зернах</td>\n      <td>True</td>\n      <td>True</td>\n    </tr>\n    <tr>\n      <th>3</th>\n      <td>78034280</td>\n      <td>Кофе Флэт Уайт 200мл</td>\n      <td>{'small': ['https://photos.okolo.app/product/1...</td>\n      <td>шт</td>\n      <td>1.0</td>\n      <td>{'rating_average': 4.56, 'rates_count': 339}</td>\n      <td>{'econombo': {'include_categories': ['251C2161...</td>\n      <td>[{'value': '99.99', 'placement_type': 'regular...</td>\n      <td>[{'label': 'Комбо', 'bg_color': '#FBAC29', 'te...</td>\n      <td>200 мл</td>\n      <td>False</td>\n      <td>100.0</td>\n      <td>NaN</td>\n      <td>NaN</td>\n      <td>[{'value': '4.81', 'text': 'белки'}, {'value':...</td>\n      <td>[{'name': 'Вес', 'value': '0.205', 'uom': 'кг'...</td>\n      <td>молоко с м.д.ж. 3,2%, вода питьевая, кофе нату...</td>\n      <td>True</td>\n      <td>True</td>\n    </tr>\n    <tr>\n      <th>4</th>\n      <td>78034284</td>\n      <td>Кофе Большой Американо 230мл</td>\n      <td>{'small': ['https://photos.okolo.app/product/1...</td>\n      <td>шт</td>\n      <td>1.0</td>\n      <td>{'rating_average': 4.8, 'rates_count': 198}</td>\n      <td>{'econombo': {'include_categories': ['251C2161...</td>\n      <td>[{'value': '49.99', 'placement_type': 'regular...</td>\n      <td>[{'label': 'Комбо', 'bg_color': '#FBAC29', 'te...</td>\n      <td>230 мл</td>\n      <td>False</td>\n      <td>100.0</td>\n      <td>NaN</td>\n      <td>NaN</td>\n      <td>[{'value': '0.41', 'text': 'белки'}, {'value':...</td>\n      <td>[{'name': 'Вес', 'value': '0.23', 'uom': 'кг'}...</td>\n      <td>вода питьевая, кофе натуральный жареный в зернах</td>\n      <td>True</td>\n      <td>True</td>\n    </tr>\n  </tbody>\n</table>\n</div>"
     },
     "execution_count": 5,
     "metadata": {},
     "output_type": "execute_result"
    }
   ],
   "source": [
    "# Вызывать, если row_products пустой \n",
    "# rep.getProducts(config.categories, config.row_products)\n",
    "# \n",
    "row_products = pd.read_csv(config.row_products)\n",
    "row_products.head()"
   ],
   "metadata": {
    "collapsed": false,
    "ExecuteTime": {
     "end_time": "2024-12-13T15:02:19.665548Z",
     "start_time": "2024-12-13T15:02:19.524037Z"
    }
   },
   "id": "b751e4b9f350ac18"
  },
  {
   "cell_type": "markdown",
   "source": [
    "### Удаляем поля продуктов, которые не нужны"
   ],
   "metadata": {
    "collapsed": false
   },
   "id": "b0564475d92448a8"
  },
  {
   "cell_type": "code",
   "execution_count": 6,
   "outputs": [
    {
     "name": "stderr",
     "output_type": "stream",
     "text": [
      "2024-12-13 18:02:21,356 - INFO - Filtered products saved to products.csv\n"
     ]
    }
   ],
   "source": [
    "def filter_product_fields(input_file=config.row_products, output_file=config.products):\n",
    "    # Список полей, которые нужно исключить\n",
    "    drop_fields = [\n",
    "        \"image_links\",\n",
    "        \"promo\",\n",
    "        \"labels\",\n",
    "        \"has_age_restriction\",\n",
    "        \"stock_limit\",\n",
    "        \"description\",\n",
    "        \"description_md\",\n",
    "        \"attributes\",\n",
    "        \"is_available\",\n",
    "        \"is_various_manufacturers\"\n",
    "    ]\n",
    "\n",
    "    try:\n",
    "        products = pd.read_csv(input_file)\n",
    "\n",
    "        filtered_products = products.drop(columns=drop_fields, errors='ignore')\n",
    "\n",
    "        filtered_products.to_csv(output_file, index=False)\n",
    "        logging.info(f\"Filtered products saved to {output_file}\")\n",
    "\n",
    "    except Exception as e:\n",
    "        logging.error(f\"Failed to filter product fields: {e}\")\n",
    "\n",
    "filter_product_fields()"
   ],
   "metadata": {
    "collapsed": false,
    "ExecuteTime": {
     "end_time": "2024-12-13T15:02:21.362708Z",
     "start_time": "2024-12-13T15:02:21.175255Z"
    }
   },
   "id": "8746b89d0bc31ca"
  },
  {
   "cell_type": "code",
   "execution_count": 7,
   "outputs": [
    {
     "data": {
      "text/plain": "        plu                          name uom  step  \\\n0  78034281              Кофе Латте 330мл  шт   1.0   \n1  78034282   Кофе Большой Капучино 270мл  шт   1.0   \n2  78034285   Кофе Американо Гранде 320мл  шт   1.0   \n3  78034280          Кофе Флэт Уайт 200мл  шт   1.0   \n4  78034284  Кофе Большой Американо 230мл  шт   1.0   \n\n                                          rating  \\\n0  {'rating_average': 4.73, 'rates_count': 2087}   \n1  {'rating_average': 4.69, 'rates_count': 1191}   \n2   {'rating_average': 4.69, 'rates_count': 518}   \n3   {'rating_average': 4.56, 'rates_count': 339}   \n4    {'rating_average': 4.8, 'rates_count': 198}   \n\n                                              prices property_clarification  \\\n0  [{'value': '99.99', 'placement_type': 'regular...                 330 мл   \n1  [{'value': '99.99', 'placement_type': 'regular...                 270 мл   \n2  [{'value': '79.99', 'placement_type': 'regular...                 320 мл   \n3  [{'value': '99.99', 'placement_type': 'regular...                 200 мл   \n4  [{'value': '49.99', 'placement_type': 'regular...                 230 мл   \n\n                                           nutrients  \\\n0  [{'value': '6.84', 'text': 'белки'}, {'value':...   \n1  [{'value': '5.25', 'text': 'белки'}, {'value':...   \n2  [{'value': '0.47', 'text': 'белки'}, {'value':...   \n3  [{'value': '4.81', 'text': 'белки'}, {'value':...   \n4  [{'value': '0.41', 'text': 'белки'}, {'value':...   \n\n                                         ingredients  \n0  молоко с м.д.ж. 3,2%, вода питьевая, кофе нату...  \n1  молоко с м.д.ж. 3,2%, вода питьевая, кофе нату...  \n2   вода питьевая, кофе натуральный жареный в зернах  \n3  молоко с м.д.ж. 3,2%, вода питьевая, кофе нату...  \n4   вода питьевая, кофе натуральный жареный в зернах  ",
      "text/html": "<div>\n<style scoped>\n    .dataframe tbody tr th:only-of-type {\n        vertical-align: middle;\n    }\n\n    .dataframe tbody tr th {\n        vertical-align: top;\n    }\n\n    .dataframe thead th {\n        text-align: right;\n    }\n</style>\n<table border=\"1\" class=\"dataframe\">\n  <thead>\n    <tr style=\"text-align: right;\">\n      <th></th>\n      <th>plu</th>\n      <th>name</th>\n      <th>uom</th>\n      <th>step</th>\n      <th>rating</th>\n      <th>prices</th>\n      <th>property_clarification</th>\n      <th>nutrients</th>\n      <th>ingredients</th>\n    </tr>\n  </thead>\n  <tbody>\n    <tr>\n      <th>0</th>\n      <td>78034281</td>\n      <td>Кофе Латте 330мл</td>\n      <td>шт</td>\n      <td>1.0</td>\n      <td>{'rating_average': 4.73, 'rates_count': 2087}</td>\n      <td>[{'value': '99.99', 'placement_type': 'regular...</td>\n      <td>330 мл</td>\n      <td>[{'value': '6.84', 'text': 'белки'}, {'value':...</td>\n      <td>молоко с м.д.ж. 3,2%, вода питьевая, кофе нату...</td>\n    </tr>\n    <tr>\n      <th>1</th>\n      <td>78034282</td>\n      <td>Кофе Большой Капучино 270мл</td>\n      <td>шт</td>\n      <td>1.0</td>\n      <td>{'rating_average': 4.69, 'rates_count': 1191}</td>\n      <td>[{'value': '99.99', 'placement_type': 'regular...</td>\n      <td>270 мл</td>\n      <td>[{'value': '5.25', 'text': 'белки'}, {'value':...</td>\n      <td>молоко с м.д.ж. 3,2%, вода питьевая, кофе нату...</td>\n    </tr>\n    <tr>\n      <th>2</th>\n      <td>78034285</td>\n      <td>Кофе Американо Гранде 320мл</td>\n      <td>шт</td>\n      <td>1.0</td>\n      <td>{'rating_average': 4.69, 'rates_count': 518}</td>\n      <td>[{'value': '79.99', 'placement_type': 'regular...</td>\n      <td>320 мл</td>\n      <td>[{'value': '0.47', 'text': 'белки'}, {'value':...</td>\n      <td>вода питьевая, кофе натуральный жареный в зернах</td>\n    </tr>\n    <tr>\n      <th>3</th>\n      <td>78034280</td>\n      <td>Кофе Флэт Уайт 200мл</td>\n      <td>шт</td>\n      <td>1.0</td>\n      <td>{'rating_average': 4.56, 'rates_count': 339}</td>\n      <td>[{'value': '99.99', 'placement_type': 'regular...</td>\n      <td>200 мл</td>\n      <td>[{'value': '4.81', 'text': 'белки'}, {'value':...</td>\n      <td>молоко с м.д.ж. 3,2%, вода питьевая, кофе нату...</td>\n    </tr>\n    <tr>\n      <th>4</th>\n      <td>78034284</td>\n      <td>Кофе Большой Американо 230мл</td>\n      <td>шт</td>\n      <td>1.0</td>\n      <td>{'rating_average': 4.8, 'rates_count': 198}</td>\n      <td>[{'value': '49.99', 'placement_type': 'regular...</td>\n      <td>230 мл</td>\n      <td>[{'value': '0.41', 'text': 'белки'}, {'value':...</td>\n      <td>вода питьевая, кофе натуральный жареный в зернах</td>\n    </tr>\n  </tbody>\n</table>\n</div>"
     },
     "execution_count": 7,
     "metadata": {},
     "output_type": "execute_result"
    }
   ],
   "source": [
    "products = pd.read_csv(config.products)\n",
    "products.head()"
   ],
   "metadata": {
    "collapsed": false,
    "ExecuteTime": {
     "end_time": "2024-12-13T15:02:22.187387Z",
     "start_time": "2024-12-13T15:02:22.130292Z"
    }
   },
   "id": "22e59d621cbfcd77"
  },
  {
   "cell_type": "code",
   "execution_count": 8,
   "outputs": [
    {
     "data": {
      "text/plain": "                   Product Name       PLU UOM  Step  Rating  Rates Count  \\\n0              Кофе Латте 330мл  78034281  шт   1.0    4.73         2087   \n1   Кофе Большой Капучино 270мл  78034282  шт   1.0    4.69         1191   \n2   Кофе Американо Гранде 320мл  78034285  шт   1.0    4.69          518   \n3          Кофе Флэт Уайт 200мл  78034280  шт   1.0    4.56          339   \n4  Кофе Большой Американо 230мл  78034284  шт   1.0    4.80          198   \n\n   Price Property Clarification  Weight  Nutrients Protein  Nutrients Fat  \\\n0  99.99                 330 мл   330.0               6.84           6.85   \n1  99.99                 270 мл   270.0               5.25           5.26   \n2  79.99                 320 мл   320.0               0.47           0.48   \n3  99.99                 200 мл   200.0               4.81           4.83   \n4  49.99                 230 мл   230.0               0.41           0.42   \n\n   Nutrients Carbs  Nutrients Calories  \\\n0             9.65              127.61   \n1             7.17               97.02   \n2             0.11                6.64   \n3             6.49               88.67   \n4             0.09                5.78   \n\n                                         Ingredients  \n0  молоко с м.д.ж. 3,2%, вода питьевая, кофе нату...  \n1  молоко с м.д.ж. 3,2%, вода питьевая, кофе нату...  \n2   вода питьевая, кофе натуральный жареный в зернах  \n3  молоко с м.д.ж. 3,2%, вода питьевая, кофе нату...  \n4   вода питьевая, кофе натуральный жареный в зернах  ",
      "text/html": "<div>\n<style scoped>\n    .dataframe tbody tr th:only-of-type {\n        vertical-align: middle;\n    }\n\n    .dataframe tbody tr th {\n        vertical-align: top;\n    }\n\n    .dataframe thead th {\n        text-align: right;\n    }\n</style>\n<table border=\"1\" class=\"dataframe\">\n  <thead>\n    <tr style=\"text-align: right;\">\n      <th></th>\n      <th>Product Name</th>\n      <th>PLU</th>\n      <th>UOM</th>\n      <th>Step</th>\n      <th>Rating</th>\n      <th>Rates Count</th>\n      <th>Price</th>\n      <th>Property Clarification</th>\n      <th>Weight</th>\n      <th>Nutrients Protein</th>\n      <th>Nutrients Fat</th>\n      <th>Nutrients Carbs</th>\n      <th>Nutrients Calories</th>\n      <th>Ingredients</th>\n    </tr>\n  </thead>\n  <tbody>\n    <tr>\n      <th>0</th>\n      <td>Кофе Латте 330мл</td>\n      <td>78034281</td>\n      <td>шт</td>\n      <td>1.0</td>\n      <td>4.73</td>\n      <td>2087</td>\n      <td>99.99</td>\n      <td>330 мл</td>\n      <td>330.0</td>\n      <td>6.84</td>\n      <td>6.85</td>\n      <td>9.65</td>\n      <td>127.61</td>\n      <td>молоко с м.д.ж. 3,2%, вода питьевая, кофе нату...</td>\n    </tr>\n    <tr>\n      <th>1</th>\n      <td>Кофе Большой Капучино 270мл</td>\n      <td>78034282</td>\n      <td>шт</td>\n      <td>1.0</td>\n      <td>4.69</td>\n      <td>1191</td>\n      <td>99.99</td>\n      <td>270 мл</td>\n      <td>270.0</td>\n      <td>5.25</td>\n      <td>5.26</td>\n      <td>7.17</td>\n      <td>97.02</td>\n      <td>молоко с м.д.ж. 3,2%, вода питьевая, кофе нату...</td>\n    </tr>\n    <tr>\n      <th>2</th>\n      <td>Кофе Американо Гранде 320мл</td>\n      <td>78034285</td>\n      <td>шт</td>\n      <td>1.0</td>\n      <td>4.69</td>\n      <td>518</td>\n      <td>79.99</td>\n      <td>320 мл</td>\n      <td>320.0</td>\n      <td>0.47</td>\n      <td>0.48</td>\n      <td>0.11</td>\n      <td>6.64</td>\n      <td>вода питьевая, кофе натуральный жареный в зернах</td>\n    </tr>\n    <tr>\n      <th>3</th>\n      <td>Кофе Флэт Уайт 200мл</td>\n      <td>78034280</td>\n      <td>шт</td>\n      <td>1.0</td>\n      <td>4.56</td>\n      <td>339</td>\n      <td>99.99</td>\n      <td>200 мл</td>\n      <td>200.0</td>\n      <td>4.81</td>\n      <td>4.83</td>\n      <td>6.49</td>\n      <td>88.67</td>\n      <td>молоко с м.д.ж. 3,2%, вода питьевая, кофе нату...</td>\n    </tr>\n    <tr>\n      <th>4</th>\n      <td>Кофе Большой Американо 230мл</td>\n      <td>78034284</td>\n      <td>шт</td>\n      <td>1.0</td>\n      <td>4.80</td>\n      <td>198</td>\n      <td>49.99</td>\n      <td>230 мл</td>\n      <td>230.0</td>\n      <td>0.41</td>\n      <td>0.42</td>\n      <td>0.09</td>\n      <td>5.78</td>\n      <td>вода питьевая, кофе натуральный жареный в зернах</td>\n    </tr>\n  </tbody>\n</table>\n</div>"
     },
     "execution_count": 8,
     "metadata": {},
     "output_type": "execute_result"
    }
   ],
   "source": [
    "db.save_filtered_products(config.products, config.processed_products)\n",
    "\n",
    "processed_products = pd.read_csv(config.processed_products)\n",
    "processed_products.head()"
   ],
   "metadata": {
    "collapsed": false,
    "ExecuteTime": {
     "end_time": "2024-12-13T15:02:23.223262Z",
     "start_time": "2024-12-13T15:02:22.899851Z"
    }
   },
   "id": "470e25f4eca57ff2"
  },
  {
   "cell_type": "code",
   "execution_count": 9,
   "outputs": [
    {
     "data": {
      "text/plain": "                PLU         Step       Rating    Rates Count        Price  \\\ncount  3.473000e+03  3473.000000  3473.000000    3473.000000  2520.000000   \nmean   4.662232e+06     0.972373     4.886674    7852.321048   147.528286   \nstd    9.028426e+06     0.156552     0.064112   16665.196342   150.167971   \nmin    2.500000e+01     0.100000     4.210000      11.000000     5.990000   \n25%    3.437861e+06     1.000000     4.870000    2393.000000    65.990000   \n50%    4.064355e+06     1.000000     4.910000    4875.000000   107.990000   \n75%    4.289896e+06     1.000000     4.930000    8769.000000   175.990000   \nmax    7.803546e+07     3.000000     5.000000  399972.000000  2299.000000   \n\n              Weight  Nutrients Protein  Nutrients Fat  Nutrients Carbs  \\\ncount    3473.000000        3473.000000    3473.000000      3473.000000   \nmean     1005.495825           6.511566      12.536847        26.749225   \nstd     16883.617263           7.141616      18.677836        27.865209   \nmin        -1.000000           0.000000       0.000000         0.000000   \n25%       100.000000           0.500000       0.200000         3.000000   \n50%       210.000000           5.000000       5.300000        12.100000   \n75%       425.000000           9.500000      19.200000        53.000000   \nmax    947000.000000          87.000000     483.000000       100.000000   \n\n       Nutrients Calories  \ncount         3473.000000  \nmean           246.489369  \nstd            193.125831  \nmin              0.000000  \n25%             64.000000  \n50%            232.000000  \n75%            379.000000  \nmax           2145.000000  ",
      "text/html": "<div>\n<style scoped>\n    .dataframe tbody tr th:only-of-type {\n        vertical-align: middle;\n    }\n\n    .dataframe tbody tr th {\n        vertical-align: top;\n    }\n\n    .dataframe thead th {\n        text-align: right;\n    }\n</style>\n<table border=\"1\" class=\"dataframe\">\n  <thead>\n    <tr style=\"text-align: right;\">\n      <th></th>\n      <th>PLU</th>\n      <th>Step</th>\n      <th>Rating</th>\n      <th>Rates Count</th>\n      <th>Price</th>\n      <th>Weight</th>\n      <th>Nutrients Protein</th>\n      <th>Nutrients Fat</th>\n      <th>Nutrients Carbs</th>\n      <th>Nutrients Calories</th>\n    </tr>\n  </thead>\n  <tbody>\n    <tr>\n      <th>count</th>\n      <td>3.473000e+03</td>\n      <td>3473.000000</td>\n      <td>3473.000000</td>\n      <td>3473.000000</td>\n      <td>2520.000000</td>\n      <td>3473.000000</td>\n      <td>3473.000000</td>\n      <td>3473.000000</td>\n      <td>3473.000000</td>\n      <td>3473.000000</td>\n    </tr>\n    <tr>\n      <th>mean</th>\n      <td>4.662232e+06</td>\n      <td>0.972373</td>\n      <td>4.886674</td>\n      <td>7852.321048</td>\n      <td>147.528286</td>\n      <td>1005.495825</td>\n      <td>6.511566</td>\n      <td>12.536847</td>\n      <td>26.749225</td>\n      <td>246.489369</td>\n    </tr>\n    <tr>\n      <th>std</th>\n      <td>9.028426e+06</td>\n      <td>0.156552</td>\n      <td>0.064112</td>\n      <td>16665.196342</td>\n      <td>150.167971</td>\n      <td>16883.617263</td>\n      <td>7.141616</td>\n      <td>18.677836</td>\n      <td>27.865209</td>\n      <td>193.125831</td>\n    </tr>\n    <tr>\n      <th>min</th>\n      <td>2.500000e+01</td>\n      <td>0.100000</td>\n      <td>4.210000</td>\n      <td>11.000000</td>\n      <td>5.990000</td>\n      <td>-1.000000</td>\n      <td>0.000000</td>\n      <td>0.000000</td>\n      <td>0.000000</td>\n      <td>0.000000</td>\n    </tr>\n    <tr>\n      <th>25%</th>\n      <td>3.437861e+06</td>\n      <td>1.000000</td>\n      <td>4.870000</td>\n      <td>2393.000000</td>\n      <td>65.990000</td>\n      <td>100.000000</td>\n      <td>0.500000</td>\n      <td>0.200000</td>\n      <td>3.000000</td>\n      <td>64.000000</td>\n    </tr>\n    <tr>\n      <th>50%</th>\n      <td>4.064355e+06</td>\n      <td>1.000000</td>\n      <td>4.910000</td>\n      <td>4875.000000</td>\n      <td>107.990000</td>\n      <td>210.000000</td>\n      <td>5.000000</td>\n      <td>5.300000</td>\n      <td>12.100000</td>\n      <td>232.000000</td>\n    </tr>\n    <tr>\n      <th>75%</th>\n      <td>4.289896e+06</td>\n      <td>1.000000</td>\n      <td>4.930000</td>\n      <td>8769.000000</td>\n      <td>175.990000</td>\n      <td>425.000000</td>\n      <td>9.500000</td>\n      <td>19.200000</td>\n      <td>53.000000</td>\n      <td>379.000000</td>\n    </tr>\n    <tr>\n      <th>max</th>\n      <td>7.803546e+07</td>\n      <td>3.000000</td>\n      <td>5.000000</td>\n      <td>399972.000000</td>\n      <td>2299.000000</td>\n      <td>947000.000000</td>\n      <td>87.000000</td>\n      <td>483.000000</td>\n      <td>100.000000</td>\n      <td>2145.000000</td>\n    </tr>\n  </tbody>\n</table>\n</div>"
     },
     "execution_count": 9,
     "metadata": {},
     "output_type": "execute_result"
    }
   ],
   "source": [
    "processed_products.describe()"
   ],
   "metadata": {
    "collapsed": false,
    "ExecuteTime": {
     "end_time": "2024-12-13T15:02:23.379339Z",
     "start_time": "2024-12-13T15:02:23.364285Z"
    }
   },
   "id": "8fec361795ddd3f1"
  },
  {
   "cell_type": "markdown",
   "source": [
    "### У части товаров не было weight и пришлось эти данные приставить в ручную "
   ],
   "metadata": {
    "collapsed": false
   },
   "id": "6142521106f948d"
  },
  {
   "cell_type": "code",
   "execution_count": 15,
   "outputs": [
    {
     "data": {
      "text/plain": "Weight\n200.0    317\n500.0    181\n400.0    155\n100.0    154\n250.0    152\n        ... \n61.0       1\n514.0      1\n571.0      1\n202.0      1\n473.0      1\nName: count, Length: 241, dtype: int64"
     },
     "execution_count": 15,
     "metadata": {},
     "output_type": "execute_result"
    }
   ],
   "source": [
    "processed_products.Weight.value_counts()"
   ],
   "metadata": {
    "collapsed": false,
    "ExecuteTime": {
     "end_time": "2024-12-13T15:54:07.355327Z",
     "start_time": "2024-12-13T15:54:07.347246Z"
    }
   },
   "id": "f71391e8c53dc04d"
  },
  {
   "cell_type": "markdown",
   "source": [
    "### Оценить продукты с помощью GigaChat "
   ],
   "metadata": {
    "collapsed": false
   },
   "id": "39d9ee36f345630c"
  },
  {
   "cell_type": "code",
   "execution_count": 11,
   "source": [
    "ai.process_products(config.processed_products, config.products_with_scores)"
   ],
   "outputs": [],
   "metadata": {
    "collapsed": false,
    "ExecuteTime": {
     "start_time": "2024-12-13T15:02:49.772257Z"
    }
   },
   "id": "a009e65c1f6c3867"
  },
  {
   "cell_type": "code",
   "execution_count": 16,
   "outputs": [
    {
     "data": {
      "text/plain": "                   Product Name       PLU UOM  Step  Rating  Rates Count  \\\n0              Кофе Латте 330мл  78034281  шт   1.0    4.73         2087   \n1   Кофе Большой Капучино 270мл  78034282  шт   1.0    4.69         1191   \n2   Кофе Американо Гранде 320мл  78034285  шт   1.0    4.69          518   \n3          Кофе Флэт Уайт 200мл  78034280  шт   1.0    4.56          339   \n4  Кофе Большой Американо 230мл  78034284  шт   1.0    4.80          198   \n\n   Price Property Clarification  Weight  Nutrients Protein  Nutrients Fat  \\\n0  99.99                 330 мл   330.0               6.84           6.85   \n1  99.99                 270 мл   270.0               5.25           5.26   \n2  79.99                 320 мл   320.0               0.47           0.48   \n3  99.99                 200 мл   200.0               4.81           4.83   \n4  49.99                 230 мл   230.0               0.41           0.42   \n\n   Nutrients Carbs  Nutrients Calories  Score  \n0             9.65              127.61   7.00  \n1             7.17               97.02   6.33  \n2             0.11                6.64   5.00  \n3             6.49               88.67   8.00  \n4             0.09                5.78   5.67  ",
      "text/html": "<div>\n<style scoped>\n    .dataframe tbody tr th:only-of-type {\n        vertical-align: middle;\n    }\n\n    .dataframe tbody tr th {\n        vertical-align: top;\n    }\n\n    .dataframe thead th {\n        text-align: right;\n    }\n</style>\n<table border=\"1\" class=\"dataframe\">\n  <thead>\n    <tr style=\"text-align: right;\">\n      <th></th>\n      <th>Product Name</th>\n      <th>PLU</th>\n      <th>UOM</th>\n      <th>Step</th>\n      <th>Rating</th>\n      <th>Rates Count</th>\n      <th>Price</th>\n      <th>Property Clarification</th>\n      <th>Weight</th>\n      <th>Nutrients Protein</th>\n      <th>Nutrients Fat</th>\n      <th>Nutrients Carbs</th>\n      <th>Nutrients Calories</th>\n      <th>Score</th>\n    </tr>\n  </thead>\n  <tbody>\n    <tr>\n      <th>0</th>\n      <td>Кофе Латте 330мл</td>\n      <td>78034281</td>\n      <td>шт</td>\n      <td>1.0</td>\n      <td>4.73</td>\n      <td>2087</td>\n      <td>99.99</td>\n      <td>330 мл</td>\n      <td>330.0</td>\n      <td>6.84</td>\n      <td>6.85</td>\n      <td>9.65</td>\n      <td>127.61</td>\n      <td>7.00</td>\n    </tr>\n    <tr>\n      <th>1</th>\n      <td>Кофе Большой Капучино 270мл</td>\n      <td>78034282</td>\n      <td>шт</td>\n      <td>1.0</td>\n      <td>4.69</td>\n      <td>1191</td>\n      <td>99.99</td>\n      <td>270 мл</td>\n      <td>270.0</td>\n      <td>5.25</td>\n      <td>5.26</td>\n      <td>7.17</td>\n      <td>97.02</td>\n      <td>6.33</td>\n    </tr>\n    <tr>\n      <th>2</th>\n      <td>Кофе Американо Гранде 320мл</td>\n      <td>78034285</td>\n      <td>шт</td>\n      <td>1.0</td>\n      <td>4.69</td>\n      <td>518</td>\n      <td>79.99</td>\n      <td>320 мл</td>\n      <td>320.0</td>\n      <td>0.47</td>\n      <td>0.48</td>\n      <td>0.11</td>\n      <td>6.64</td>\n      <td>5.00</td>\n    </tr>\n    <tr>\n      <th>3</th>\n      <td>Кофе Флэт Уайт 200мл</td>\n      <td>78034280</td>\n      <td>шт</td>\n      <td>1.0</td>\n      <td>4.56</td>\n      <td>339</td>\n      <td>99.99</td>\n      <td>200 мл</td>\n      <td>200.0</td>\n      <td>4.81</td>\n      <td>4.83</td>\n      <td>6.49</td>\n      <td>88.67</td>\n      <td>8.00</td>\n    </tr>\n    <tr>\n      <th>4</th>\n      <td>Кофе Большой Американо 230мл</td>\n      <td>78034284</td>\n      <td>шт</td>\n      <td>1.0</td>\n      <td>4.80</td>\n      <td>198</td>\n      <td>49.99</td>\n      <td>230 мл</td>\n      <td>230.0</td>\n      <td>0.41</td>\n      <td>0.42</td>\n      <td>0.09</td>\n      <td>5.78</td>\n      <td>5.67</td>\n    </tr>\n  </tbody>\n</table>\n</div>"
     },
     "execution_count": 16,
     "metadata": {},
     "output_type": "execute_result"
    }
   ],
   "source": [
    "products_with_scores = pd.read_csv(config.products_with_scores)\n",
    "products_with_scores.head()"
   ],
   "metadata": {
    "collapsed": false,
    "ExecuteTime": {
     "end_time": "2024-12-13T15:54:26.330537Z",
     "start_time": "2024-12-13T15:54:26.311834Z"
    }
   },
   "id": "c2435551f2f3b971"
  },
  {
   "cell_type": "code",
   "execution_count": 17,
   "outputs": [
    {
     "data": {
      "text/plain": "Weight\n200.0    329\n500.0    189\n100.0    154\n400.0    154\n250.0    152\n        ... \n221.0      1\n282.0      1\n51.0       1\n550.0      1\n473.0      1\nName: count, Length: 245, dtype: int64"
     },
     "execution_count": 17,
     "metadata": {},
     "output_type": "execute_result"
    }
   ],
   "source": [
    "products_with_scores.Weight.value_counts()"
   ],
   "metadata": {
    "collapsed": false,
    "ExecuteTime": {
     "end_time": "2024-12-13T15:54:36.432707Z",
     "start_time": "2024-12-13T15:54:36.400259Z"
    }
   },
   "id": "f1f125c62185dd2e"
  },
  {
   "cell_type": "code",
   "execution_count": null,
   "outputs": [],
   "source": [],
   "metadata": {
    "collapsed": false
   },
   "id": "70575338c46a7b94"
  }
 ],
 "metadata": {
  "kernelspec": {
   "display_name": "Python 3",
   "language": "python",
   "name": "python3"
  },
  "language_info": {
   "codemirror_mode": {
    "name": "ipython",
    "version": 2
   },
   "file_extension": ".py",
   "mimetype": "text/x-python",
   "name": "python",
   "nbconvert_exporter": "python",
   "pygments_lexer": "ipython2",
   "version": "2.7.6"
  }
 },
 "nbformat": 4,
 "nbformat_minor": 5
}
